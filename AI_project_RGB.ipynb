{
  "nbformat": 4,
  "nbformat_minor": 0,
  "metadata": {
    "colab": {
      "name": "AI project RGB.ipynb",
      "provenance": [],
      "collapsed_sections": []
    },
    "kernelspec": {
      "name": "python3",
      "display_name": "Python 3"
    },
    "language_info": {
      "name": "python"
    },
    "accelerator": "GPU"
  },
  "cells": [
    {
      "cell_type": "markdown",
      "source": [
        "### Install scikit-video if not installed"
      ],
      "metadata": {
        "id": "hiJeJsVh15sp"
      }
    },
    {
      "cell_type": "code",
      "source": [
        "pip install scikit-video"
      ],
      "metadata": {
        "id": "de6gfj723L5E",
        "colab": {
          "base_uri": "https://localhost:8080/"
        },
        "outputId": "93e1038f-b88f-432b-9f4d-1f2fe580e728"
      },
      "execution_count": 1,
      "outputs": [
        {
          "output_type": "stream",
          "name": "stdout",
          "text": [
            "Looking in indexes: https://pypi.org/simple, https://us-python.pkg.dev/colab-wheels/public/simple/\n",
            "Collecting scikit-video\n",
            "  Downloading scikit_video-1.1.11-py2.py3-none-any.whl (2.3 MB)\n",
            "\u001b[K     |████████████████████████████████| 2.3 MB 33.6 MB/s \n",
            "\u001b[?25hRequirement already satisfied: numpy in /usr/local/lib/python3.7/dist-packages (from scikit-video) (1.21.6)\n",
            "Requirement already satisfied: scipy in /usr/local/lib/python3.7/dist-packages (from scikit-video) (1.4.1)\n",
            "Requirement already satisfied: pillow in /usr/local/lib/python3.7/dist-packages (from scikit-video) (7.1.2)\n",
            "Installing collected packages: scikit-video\n",
            "Successfully installed scikit-video-1.1.11\n"
          ]
        }
      ]
    },
    {
      "cell_type": "markdown",
      "source": [
        "### Import Libraries"
      ],
      "metadata": {
        "id": "KBfLxncO3VOJ"
      }
    },
    {
      "cell_type": "code",
      "source": [
        "import skvideo.io\n",
        "import numpy as np\n",
        "import torch\n",
        "import torch.nn as nn\n",
        "from torch.utils.data import Dataset, DataLoader\n",
        "from torch.utils.data import random_split\n",
        "from PIL import Image\n",
        "import math\n",
        "import time\n",
        "import matplotlib.pyplot as plt"
      ],
      "metadata": {
        "id": "wZVVMGH-3Uw4"
      },
      "execution_count": 2,
      "outputs": []
    },
    {
      "cell_type": "markdown",
      "source": [
        "### Seperating Input and Output frames\n"
      ],
      "metadata": {
        "id": "7L0-iYII6V_W"
      }
    },
    {
      "cell_type": "markdown",
      "source": [
        "Lets say we have n=4 frames 0 1 2 3 \n",
        "\n",
        "first we seperate the color channels like 0r 0g 0b\n",
        "\n",
        "then we stack these channels \n",
        "\n",
        "| x1 | x2 | y  |\n",
        "|:---|:---|:---|\n",
        "|  0r | 2r  | 1r  |\n",
        "|  1r | 3r  | 2r  |\n",
        "|  0g | 2g  | 1g  |\n",
        "|  1g | 3g  | 2g  |\n",
        "|  0b | 2b  | 1b  |\n",
        "|  1b | 3b  | 2b  |\n",
        "\n",
        "\n",
        "we make these 3 arrays"
      ],
      "metadata": {
        "id": "1auPKDA_6daf"
      }
    },
    {
      "cell_type": "markdown",
      "source": [
        "### Function"
      ],
      "metadata": {
        "id": "1UPlfZFjiQSO"
      }
    },
    {
      "cell_type": "code",
      "source": [
        "def videoToXYtensors(videoPath):\n",
        "    \n",
        "    # Opening the video\n",
        "    video_data = None\n",
        "    try:\n",
        "      video_data = torch.tensor(skvideo.io.vread(videoPath), dtype=torch.float)\n",
        "    except:\n",
        "      print('Error opening video')\n",
        "      return\n",
        "\n",
        "    \n",
        "    video_data = normalize(video_data)\n",
        "    # Creating the 3 arrays x1,x2 and y\n",
        "    X1 = video_data[:-2]\n",
        "    X2 = video_data[2:]\n",
        "    Y = video_data[1:-1]\n",
        "\n",
        "    X1R = X1[:,:,:,0:1]\n",
        "    X2R = X2[:,:,:,0:1]\n",
        "    YR = Y[:,:,:,0:1]\n",
        "\n",
        "    X1G = X1[:,:,:,1:2]\n",
        "    X2G = X2[:,:,:,1:2]\n",
        "    YG = Y[:,:,:,1:2]\n",
        "\n",
        "    X1B = X1[:,:,:,2:3]\n",
        "    X2B = X2[:,:,:,2:3]\n",
        "    YB = Y[:,:,:,2:3]\n",
        "    \n",
        "    # stacking X1 and X2 for all 3 channels\n",
        "    XR = torch.cat((X1R,X2R),axis = 3)\n",
        "    XG = torch.cat((X1G,X2G),axis = 3)\n",
        "    XB = torch.cat((X1B,X2B),axis = 3)\n",
        "  \n",
        "\n",
        "    # vertically stacking them\n",
        "    X = torch.cat((XR.permute(0,3,1,2),XG.permute(0,3,1,2),XB.permute(0,3,1,2)),axis = 0)\n",
        "    Y = torch.cat((YR.permute(0,3,1,2),YG.permute(0,3,1,2),YB.permute(0,3,1,2)),axis = 0)\n",
        "\n",
        "\n",
        "    return X,Y\n",
        "    "
      ],
      "metadata": {
        "id": "9dxqM1tjA6qq"
      },
      "execution_count": 3,
      "outputs": []
    },
    {
      "cell_type": "markdown",
      "source": [
        "## Normalize and denormalize\n"
      ],
      "metadata": {
        "id": "Uii6p31N28Sd"
      }
    },
    {
      "cell_type": "code",
      "source": [
        "def normalize(Y):\n",
        "  return Y/255\n",
        "\n",
        "def denormalize(Y):\n",
        "  return Y*255"
      ],
      "metadata": {
        "id": "bTo7bUQESvEj"
      },
      "execution_count": 4,
      "outputs": []
    },
    {
      "cell_type": "code",
      "source": [
        "random_seed = 420\n",
        "torch.manual_seed(random_seed)"
      ],
      "metadata": {
        "id": "88htU6313bWs",
        "colab": {
          "base_uri": "https://localhost:8080/"
        },
        "outputId": "f9fc4b05-ead7-445d-e328-52aadae1184a"
      },
      "execution_count": 5,
      "outputs": [
        {
          "output_type": "execute_result",
          "data": {
            "text/plain": [
              "<torch._C.Generator at 0x7f36b5af2e30>"
            ]
          },
          "metadata": {},
          "execution_count": 5
        }
      ]
    },
    {
      "cell_type": "markdown",
      "source": [
        "## Creating the Dataset"
      ],
      "metadata": {
        "id": "JIbudvMbgrBa"
      }
    },
    {
      "cell_type": "code",
      "source": [
        "class InterpolationDataset(Dataset):\n",
        "  def __init__(self, input_frames, output_frames):\n",
        "    self.X = input_frames\n",
        "    self.Y = output_frames\n",
        "\n",
        "  def __len__(self):\n",
        "      return len(self.Y)\n",
        "    \n",
        "  def __getitem__(self, idx):\n",
        "    return self.X[idx], self.Y[idx]\n",
        "      \n",
        "\n"
      ],
      "metadata": {
        "id": "5zpe7TfC9zFf"
      },
      "execution_count": 6,
      "outputs": []
    },
    {
      "cell_type": "markdown",
      "source": [
        "#### Creating Data loader"
      ],
      "metadata": {
        "id": "bjRms5Cmgzfo"
      }
    },
    {
      "cell_type": "code",
      "source": [
        "Xc ,Yc = videoToXYtensors(\"/content/InputVideo0.mp4\")\n",
        "\n",
        "dataset = InterpolationDataset(Xc,Yc)"
      ],
      "metadata": {
        "id": "ZYTZ-oCDCrLJ"
      },
      "execution_count": 7,
      "outputs": []
    },
    {
      "cell_type": "code",
      "source": [
        "batch_size = 16\n",
        "\n",
        "train_dl = DataLoader(dataset, batch_size, shuffle=True, num_workers=2, pin_memory=True)"
      ],
      "metadata": {
        "id": "Zo1W7mSMDV_B"
      },
      "execution_count": 8,
      "outputs": []
    },
    {
      "cell_type": "markdown",
      "source": [
        "### The Model class"
      ],
      "metadata": {
        "id": "Fd9byQu9hRm8"
      }
    },
    {
      "cell_type": "code",
      "source": [
        "class VideoInterpolationModel(nn.Module):\n",
        "  \n",
        "  def __init__(self):\n",
        "    super().__init__()\n",
        "    self.network = nn.Sequential(\n",
        "      \n",
        "      nn.Conv2d(2, 32, kernel_size=3, stride=1, padding=1, padding_mode = 'replicate'),\n",
        "      nn.ReLU(),\n",
        "      nn.MaxPool2d(2,2),\n",
        "\n",
        "        nn.Conv2d(32,64, kernel_size=3, stride=1, padding=1, padding_mode = 'replicate'),\n",
        "        nn.ReLU(),\n",
        "        nn.MaxPool2d(2,2),\n",
        "\n",
        "            nn.Conv2d(64,128, kernel_size=3, stride=1, padding=1, padding_mode = 'replicate'),\n",
        "            nn.ReLU(),\n",
        "\n",
        "          nn.ConvTranspose2d(128,64, kernel_size=3, stride=1, padding=1),\n",
        "          nn.ReLU(),\n",
        "\n",
        "        nn.Upsample(scale_factor=2, mode='bilinear', ),\n",
        "        nn.ConvTranspose2d(64,32, kernel_size=3, stride=1, padding=1),\n",
        "        nn.ReLU(),\n",
        "\n",
        "      nn.Upsample(scale_factor=2, mode='bilinear', ),\n",
        "      nn.ConvTranspose2d(32,1, kernel_size=3, stride=1, padding=1),\n",
        "      nn.ReLU(),\n",
        "    )\n",
        "\n",
        "  def forward(self, batch):\n",
        "    return self.network(batch)\n",
        "\n",
        "  def MSE_loss(self,Y,Y_prime):\n",
        "   return torch.mean(((Y-Y_prime)**2))\n",
        "\n",
        "  def accuracy(self,Y,Y_prime):\n",
        "    return torch.sum(Y==Y_prime)/Y.numel\n",
        "\n",
        "  def training_step(self, batch):\n",
        "    inputs, outputs = batch \n",
        "    out = self(inputs)                # Generate predictions\n",
        "    loss = self.MSE_loss(out, outputs) # Calculate loss\n",
        "    return loss\n",
        "    \n",
        "\n"
      ],
      "metadata": {
        "id": "2CDVvXHIGqFC"
      },
      "execution_count": 9,
      "outputs": []
    },
    {
      "cell_type": "markdown",
      "source": [
        "### Setting up GPU"
      ],
      "metadata": {
        "id": "QwShOTUfhZqy"
      }
    },
    {
      "cell_type": "code",
      "source": [
        "def get_default_device():\n",
        "    if torch.cuda.is_available():\n",
        "        return torch.device('cuda')\n",
        "    else:\n",
        "        return torch.device('cpu')\n",
        "    \n",
        "def to_device(data, device):\n",
        "    if isinstance(data, (list,tuple)):\n",
        "        return [to_device(x, device) for x in data]\n",
        "    return data.to(device, non_blocking=True)\n",
        "\n",
        "class DeviceDataLoader():\n",
        "    def __init__(self, dl, device):\n",
        "        self.dl = dl\n",
        "        self.device = device\n",
        "        \n",
        "    def __iter__(self):\n",
        "        for b in self.dl: \n",
        "            yield to_device(b, self.device)\n",
        "\n",
        "    def __len__(self):\n",
        "        return len(self.dl)"
      ],
      "metadata": {
        "id": "inLIIPW2QJNM"
      },
      "execution_count": 10,
      "outputs": []
    },
    {
      "cell_type": "code",
      "source": [
        "device = get_default_device()\n",
        "device"
      ],
      "metadata": {
        "id": "YZtM-DzAQTJN",
        "colab": {
          "base_uri": "https://localhost:8080/"
        },
        "outputId": "37c20728-dddb-4dc7-88a8-1bc3ed6bd04b"
      },
      "execution_count": 11,
      "outputs": [
        {
          "output_type": "execute_result",
          "data": {
            "text/plain": [
              "device(type='cuda')"
            ]
          },
          "metadata": {},
          "execution_count": 11
        }
      ]
    },
    {
      "cell_type": "markdown",
      "source": [
        "### The Train/Fit Function"
      ],
      "metadata": {
        "id": "HWFiVnLdjrr_"
      }
    },
    {
      "cell_type": "code",
      "source": [
        "losses = []\n",
        "\n",
        "def fit(epochs, lr, model, train_loader, opt_func=torch.optim.Adam):\n",
        "    global losses\n",
        "    # start timer for whole training\n",
        "    tick = time.time()\n",
        "    history = []\n",
        "    \n",
        "    optimizer = opt_func(model.parameters(), lr)\n",
        "    for epoch in range(epochs):\n",
        "        \n",
        "        # start timer for epoch\n",
        "        t1 = time.time()\n",
        "        \n",
        "        print(f'Epoch:{epoch}')\n",
        "\n",
        "        model.train()\n",
        "        # losses for each batch\n",
        "        train_losses = []\n",
        "        \n",
        "        # Actual Training\n",
        "        for batch in train_loader:\n",
        "            loss = model.training_step(batch)\n",
        "            \n",
        "            print(f' l = {loss}')\n",
        "            train_losses.append(loss)\n",
        "            \n",
        "            loss.backward()\n",
        "            optimizer.step()\n",
        "            optimizer.zero_grad()\n",
        "\n",
        "\n",
        "        # stop timer for epoch\n",
        "        t2 = time.time()\n",
        "        print(f'time::{t2 - t1} sec,  or {(t2 - t1)/60 } minutes ')\n",
        "\n",
        "        losses.append((sum(train_losses)/len(train_losses)))\n",
        "        print(f\"average loss = {losses[-1]}\\n\\n\")\n",
        "    # stop timer for whole training\n",
        "    tock = time.time()\n",
        "    print(f'time taken for {epochs} epochs:{tock - tick} sec,  or {(tock - tick)/60 } minutes ')\n",
        "    return history\n",
        "\n",
        "\n"
      ],
      "metadata": {
        "id": "M4Z1h49uGqzq"
      },
      "execution_count": 12,
      "outputs": []
    },
    {
      "cell_type": "markdown",
      "source": [
        "### Instantiating the model"
      ],
      "metadata": {
        "id": "81NHE0uDhnna"
      }
    },
    {
      "cell_type": "code",
      "source": [
        "model1 = VideoInterpolationModel()\n",
        "\n",
        "\n",
        "train_dl = DeviceDataLoader(train_dl, device)\n",
        "to_device(model1, device);"
      ],
      "metadata": {
        "id": "gsiz_-vVJK8O"
      },
      "execution_count": 13,
      "outputs": []
    },
    {
      "cell_type": "markdown",
      "source": [
        "## Loading the parameters (Comment if training)"
      ],
      "metadata": {
        "id": "3CwqOnUwzxRn"
      }
    },
    {
      "cell_type": "code",
      "source": [
        "model1.load_state_dict(torch.load('/content/model_params12'))\n",
        "model1.eval()"
      ],
      "metadata": {
        "colab": {
          "base_uri": "https://localhost:8080/"
        },
        "id": "mKcIP5R4z3Xr",
        "outputId": "8f48d358-2a3e-47fd-a233-9095c02efd2f"
      },
      "execution_count": null,
      "outputs": [
        {
          "output_type": "execute_result",
          "data": {
            "text/plain": [
              "VideoInterpolationModel(\n",
              "  (network): Sequential(\n",
              "    (0): Conv2d(2, 32, kernel_size=(3, 3), stride=(1, 1), padding=(1, 1), padding_mode=replicate)\n",
              "    (1): ReLU()\n",
              "    (2): MaxPool2d(kernel_size=2, stride=2, padding=0, dilation=1, ceil_mode=False)\n",
              "    (3): Conv2d(32, 64, kernel_size=(3, 3), stride=(1, 1), padding=(1, 1), padding_mode=replicate)\n",
              "    (4): ReLU()\n",
              "    (5): MaxPool2d(kernel_size=2, stride=2, padding=0, dilation=1, ceil_mode=False)\n",
              "    (6): Conv2d(64, 128, kernel_size=(3, 3), stride=(1, 1), padding=(1, 1), padding_mode=replicate)\n",
              "    (7): ReLU()\n",
              "    (8): ConvTranspose2d(128, 64, kernel_size=(3, 3), stride=(1, 1), padding=(1, 1))\n",
              "    (9): ReLU()\n",
              "    (10): Upsample(scale_factor=2.0, mode=bilinear)\n",
              "    (11): ConvTranspose2d(64, 32, kernel_size=(3, 3), stride=(1, 1), padding=(1, 1))\n",
              "    (12): ReLU()\n",
              "    (13): Upsample(scale_factor=2.0, mode=bilinear)\n",
              "    (14): ConvTranspose2d(32, 1, kernel_size=(3, 3), stride=(1, 1), padding=(1, 1))\n",
              "    (15): ReLU()\n",
              "  )\n",
              ")"
            ]
          },
          "metadata": {},
          "execution_count": 113
        }
      ]
    },
    {
      "cell_type": "markdown",
      "source": [
        "## Training the Model"
      ],
      "metadata": {
        "id": "Q6W3H8ydhrJO"
      }
    },
    {
      "cell_type": "code",
      "source": [
        "fit(50,0.001,model1,train_dl)"
      ],
      "metadata": {
        "id": "JW7rFzF8hB-M"
      },
      "execution_count": 35,
      "outputs": []
    },
    {
      "cell_type": "markdown",
      "source": [
        "## Saving the Parameters\n",
        "\n",
        "### MUST DO AFTER TRAINING"
      ],
      "metadata": {
        "id": "jINusxJmzeBm"
      }
    },
    {
      "cell_type": "code",
      "source": [
        "torch.save(model1.state_dict(), 'model_params_dust')"
      ],
      "metadata": {
        "id": "WlMrTIB30L0R"
      },
      "execution_count": null,
      "outputs": []
    },
    {
      "cell_type": "markdown",
      "source": [
        "### Training loss graph"
      ],
      "metadata": {
        "id": "7bqPxE8dQ6Tb"
      }
    },
    {
      "cell_type": "code",
      "source": [
        "l = []\n",
        "for loss in losses:\n",
        "  l.append(float(loss))\n",
        "\n",
        "xpoints = np.array(range(len(l)-2))\n",
        "ypoints = np.array(l[2:])\n",
        "\n",
        "plt.plot(xpoints, ypoints)\n",
        "plt.show()\n",
        "print(l)"
      ],
      "metadata": {
        "id": "qrKS0Auy1fK_",
        "colab": {
          "base_uri": "https://localhost:8080/",
          "height": 305
        },
        "outputId": "d7cbf4d0-dded-4716-b837-79cfc936e47c"
      },
      "execution_count": null,
      "outputs": [
        {
          "output_type": "display_data",
          "data": {
            "text/plain": [
              "<Figure size 432x288 with 1 Axes>"
            ],
            "image/png": "[encoded data removed]"
          },
          "metadata": {
            "needs_background": "light"
          }
        },
        {
          "output_type": "stream",
          "name": "stdout",
          "text": [
            "[0.000848211464472115, 0.00033666600938886404, 0.0002561765431892127, 0.0002502916904632002, 0.00021487101912498474, 0.0001965980773093179, 0.00019102399528492242, 0.0001869869593065232, 0.00018252023437526077, 0.00017029154696501791, 0.00016354456602130085, 0.0001663887669565156, 0.00016274394874926656, 0.00016747959307394922, 0.00015871522191446275, 0.00016295704699587077, 0.00016524246893823147, 0.0001570423337398097, 0.00015215460734907538, 0.0001569806772749871, 0.00014987093163654208, 0.000149585772305727, 0.00014426480629481375, 0.00014608720084652305, 0.00014435008051805198, 0.00014505768194794655, 0.0001479114143876359, 0.00014707482478115708, 0.00013976547052152455, 0.00013929372653365135, 0.00014668820949736983, 0.0001432653225492686, 0.00014568999176844954, 0.00015292575699277222, 0.00014698963786941022, 0.0001433399156667292, 0.00014030752936378121, 0.00013965234393253922, 0.0001490872964495793, 0.0001496685144957155, 0.0001393425918649882, 0.00013940644566901028, 0.00013764608593191952, 0.0001463951193727553, 0.00014393367746379226, 0.0001390567049384117, 0.0001380321482429281]\n"
          ]
        }
      ]
    },
    {
      "cell_type": "markdown",
      "source": [
        "### Regenerating the Video"
      ],
      "metadata": {
        "id": "R70uv2N5z6wo"
      }
    },
    {
      "cell_type": "code",
      "source": [
        "import gc # had to bring in garbage collector to free ram, else colab crashes\n",
        "\n",
        "video_data = normalize(torch.tensor(skvideo.io.vread(\"/content/InputVideo0.mp4\"), dtype=torch.float))\n",
        "\n",
        "\n",
        "X1 = video_data[:-1]\n",
        "X2 = video_data[1:]\n",
        "\n",
        "del video_data\n",
        "gc.collect()\n",
        "\n",
        "X1R = X1[:,:,:,0:1]\n",
        "X2R = X2[:,:,:,0:1]\n",
        "\n",
        "X1G = X1[:,:,:,1:2]\n",
        "X2G = X2[:,:,:,1:2]\n",
        "\n",
        "X1B = X1[:,:,:,2:3]\n",
        "X2B = X2[:,:,:,2:3]\n",
        "\n",
        "del X2\n",
        "gc.collect()\n",
        "\n",
        "  # stacking X1 and X2\n",
        "XR = torch.cat((X1R,X2R),axis = 3).permute(0,3,1,2)\n",
        "XG = torch.cat((X1G,X2G),axis = 3).permute(0,3,1,2)\n",
        "XB = torch.cat((X1B,X2B),axis = 3).permute(0,3,1,2)\n",
        "\n",
        "  "
      ],
      "metadata": {
        "id": "IAkvumlC1gpI"
      },
      "execution_count": 27,
      "outputs": []
    },
    {
      "cell_type": "markdown",
      "source": [
        "### Generating The frames"
      ],
      "metadata": {
        "id": "PjfsyJfG0mc-"
      }
    },
    {
      "cell_type": "code",
      "source": [
        "Y = []\n",
        "for i in range(int(len(XR)/16)):\n",
        "  Yr = model1((XR[i*16:i*16+16]).cuda()).detach().cpu().permute(0,2,3,1).numpy() \n",
        "  Yg = model1((XG[i*16:i*16+16]).cuda()).detach().cpu().permute(0,2,3,1).numpy() \n",
        "  Yb = model1((XB[i*16:i*16+16]).cuda()).detach().cpu().permute(0,2,3,1).numpy()\n",
        "\n",
        "  Yr = np.clip(Yr,0,1) \n",
        "  Yg = np.clip(Yg,0,1) \n",
        "  Yb = np.clip(Yb,0,1) \n",
        "\n",
        "  out = np.concatenate((Yr,Yg,Yb),axis=3)\n",
        "  Y.append(out)\n",
        "  "
      ],
      "metadata": {
        "id": "Ddmj1Qya2noH"
      },
      "execution_count": 28,
      "outputs": []
    },
    {
      "cell_type": "code",
      "source": [
        "del X1R\n",
        "del X2R\n",
        "\n",
        "del X1G\n",
        "del X2G\n",
        "\n",
        "del X1B\n",
        "del X2B\n",
        "\n",
        "\n",
        "del XR\n",
        "del XG\n",
        "del XB\n",
        "\n",
        "gc.collect()"
      ],
      "metadata": {
        "id": "-ddqxp37Z2bR",
        "colab": {
          "base_uri": "https://localhost:8080/"
        },
        "outputId": "96712317-87d3-4bef-dfc6-db0b90c3f8aa"
      },
      "execution_count": 29,
      "outputs": [
        {
          "output_type": "execute_result",
          "data": {
            "text/plain": [
              "94"
            ]
          },
          "metadata": {},
          "execution_count": 29
        }
      ]
    },
    {
      "cell_type": "code",
      "source": [
        "F = np.concatenate(Y,axis=0)\n",
        "\n",
        "F.shape\n",
        "\n",
        "del Y\n",
        "gc.collect()"
      ],
      "metadata": {
        "id": "tTIqp65S3PNW",
        "colab": {
          "base_uri": "https://localhost:8080/"
        },
        "outputId": "655c9274-016f-44b5-8d21-585896cd34fe"
      },
      "execution_count": 30,
      "outputs": [
        {
          "output_type": "execute_result",
          "data": {
            "text/plain": [
              "53"
            ]
          },
          "metadata": {},
          "execution_count": 30
        }
      ]
    },
    {
      "cell_type": "code",
      "source": [
        "video_data = normalize(np.array(skvideo.io.vread(\"/content/InputVideo0.mp4\")))\n",
        "\n",
        "\n",
        "\n",
        "X1 = video_data[:-1][:-2]\n",
        "\n",
        "del video_data\n",
        "gc.collect()\n",
        "\n",
        "print(X1.shape)\n"
      ],
      "metadata": {
        "id": "NxvcOy4l7iBc",
        "colab": {
          "base_uri": "https://localhost:8080/"
        },
        "outputId": "7acb7d6d-97b3-4fe6-8e0b-465b3a2349f3"
      },
      "execution_count": 31,
      "outputs": [
        {
          "output_type": "stream",
          "name": "stdout",
          "text": [
            "(173, 512, 512, 3)\n"
          ]
        }
      ]
    },
    {
      "cell_type": "markdown",
      "source": [
        "### Aligning the frames"
      ],
      "metadata": {
        "id": "2xTVGvR0k-do"
      }
    },
    {
      "cell_type": "code",
      "source": [
        "video = []\n",
        "for i in range(len(F)-1):\n",
        "  filter = np.abs(X1[i+1]-X1[i])\n",
        "  \n",
        "  \n",
        "  inverted_filter = 1 - filter\n",
        " \n",
        "  newFrame = (X1[i]+X1[i+1]) * inverted_filter/2 + F[i] * filter\n",
        "  video.append(X1[i])\n",
        "  video.append(newFrame)\n",
        "\n"
      ],
      "metadata": {
        "id": "E8RuEGV082CL"
      },
      "execution_count": 32,
      "outputs": []
    },
    {
      "cell_type": "code",
      "source": [
        "del F\n",
        "del X1\n",
        "gc.collect()\n"
      ],
      "metadata": {
        "colab": {
          "base_uri": "https://localhost:8080/"
        },
        "id": "q62EE7ycaLx8",
        "outputId": "9b4ce342-0eb3-4271-caf5-25d7a1fa7221"
      },
      "execution_count": 33,
      "outputs": [
        {
          "output_type": "execute_result",
          "data": {
            "text/plain": [
              "100"
            ]
          },
          "metadata": {},
          "execution_count": 33
        }
      ]
    },
    {
      "cell_type": "code",
      "source": [
        "V = np.array(video)\n",
        "del video\n",
        "gc.collect()\n",
        "\n",
        "V = denormalize(V)\n",
        "print(V.shape)\n"
      ],
      "metadata": {
        "colab": {
          "base_uri": "https://localhost:8080/"
        },
        "id": "YuHjhlCfZfYu",
        "outputId": "b897284d-49e5-4f4b-dc1a-25bf48aa3aab"
      },
      "execution_count": 34,
      "outputs": [
        {
          "output_type": "stream",
          "name": "stdout",
          "text": [
            "(318, 512, 512, 3)\n"
          ]
        }
      ]
    },
    {
      "cell_type": "markdown",
      "source": [
        "### Saving the output"
      ],
      "metadata": {
        "id": "lIPtyXXMlDO5"
      }
    },
    {
      "cell_type": "code",
      "source": [
        "skvideo.io.vwrite(\"outputvid4.mp4\", V.astype('uint8'))\n",
        "del V\n",
        "gc.collect()"
      ],
      "metadata": {
        "id": "rG8cMaag9O5L",
        "colab": {
          "base_uri": "https://localhost:8080/"
        },
        "outputId": "e26b1e6b-5f5d-41d0-86ad-472fe7f662cb"
      },
      "execution_count": 35,
      "outputs": [
        {
          "output_type": "execute_result",
          "data": {
            "text/plain": [
              "100"
            ]
          },
          "metadata": {},
          "execution_count": 35
        }
      ]
    }
  ]
}